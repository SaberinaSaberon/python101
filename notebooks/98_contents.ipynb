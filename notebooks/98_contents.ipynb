{
 "cells": [
  {
   "cell_type": "markdown",
   "metadata": {},
   "source": [
    "Introduction to Python\n",
    "==="
   ]
  },
  {
   "cell_type": "markdown",
   "metadata": {},
   "source": [
    "01 Hello World\n",
    "---\n",
    "The classic \"Hello world\" program in Python. Use this to make sure your computer is set up to run Python programs properly.\n",
    "\n",
    "[Hello World notebook](01_hello_world.ipynb)"
   ]
  },
  {
   "cell_type": "markdown",
   "metadata": {},
   "source": [
    "02 Variables, Strings, and Numbers\n",
    "---\n",
    "In this section, you will learn to store information in variables. You will learn about two types of data: strings, which are sets of characters, and numerical data types.\n",
    "\n",
    "[Variables Strings Numbers noteboook](02_var_string_num.ipynb)"
   ]
  },
  {
   "cell_type": "markdown",
   "metadata": {},
   "source": [
    "03 Lists and Tuples\n",
    "---\n",
    "In this notebook, you will learn to store more than one valuable in a single variable.\n",
    "\n",
    "[Lists and Tuples notebook](03_lists_tuples.ipynb)"
   ]
  },
  {
   "cell_type": "markdown",
   "metadata": {},
   "source": [
    "04 Introducing Functions\n",
    "---\n",
    "One of the core principles of any programming language is, \"Don't Repeat Yourself\". If you have an action that should occur many times, you can define that action once and then call that code whenever you need to carry out that action.\n",
    "\n",
    "[Introducing Functions notebook](04_introducing_functions.ipynb)"
   ]
  },
  {
   "cell_type": "markdown",
   "metadata": {},
   "source": [
    "05 If Statements\n",
    "---\n",
    "By allowing you to respond selectively to different situations and conditions, if statements open up whole new possibilities for your programs. In this section, you will learn how to test for certain conditions, and then respond in appropriate ways to those conditions.\n",
    "\n",
    "[If Statements notebook](05_if_statements.ipynb)"
   ]
  },
  {
   "cell_type": "markdown",
   "metadata": {},
   "source": [
    "06 While Loops and Input\n",
    "---\n",
    "While loops are really useful because they let your program run until a user decides to quit the program. They set up an infinite loop that runs until the user does something to end the loop. This section also introduces the first way to get input from your program's users.\n",
    "\n",
    "[While Loops and Input notebook](06_while_input.ipynb)"
   ]
  },
  {
   "cell_type": "markdown",
   "metadata": {},
   "source": [
    "07 Dictionaries\n",
    "---\n",
    "Dictionaries allow us to store connected bits of information. For example, you might store a person's name and age together.\n",
    "\n",
    "[Dictionaries notebook](07_dictionaries.ipynb)"
   ]
  },
  {
   "cell_type": "markdown",
   "metadata": {},
   "source": [
    "08 More Functions\n",
    "---\n",
    "Earlier we learned the most bare-boned versions of functions. In this section we will learn more general concepts about functions, such as how to use functions to return values, and how to pass different kinds of data structures between functions.\n",
    "\n",
    "[More Functions notebook](08_more_functions.ipynb)"
   ]
  },
  {
   "cell_type": "markdown",
   "metadata": {},
   "source": [
    "09 Classes\n",
    "---\n",
    "So far we have learned about Python's core data types: strings, numbers, lists, tuples, and dictionaries. In this section we learn about the last major data structure, classes. Classes are quite unlike the other data types, in that they are much more flexible. Classes allow you to define the information and behavior that characterize anything you want to model in your program. Classes are a rich topic, so we will learn just enough here to dive into the projects you'd like to get started on.\n",
    "\n",
    "[Classes notebook](09_classes.ipynb)"
   ]
  },
  {
   "cell_type": "markdown",
   "metadata": {},
   "source": [
    "10 Basic File I/O\n",
    "---\n",
    "Let's talk about the basic files where we can write data and read data from.\n",
    "\n",
    "[basic file io notebook](10_file_io.ipynb)"
   ]
  },
  {
   "cell_type": "markdown",
   "metadata": {},
   "source": [
    "11 Basic  Apps\n",
    "---\n",
    "By this point, you have learned enough Python to start building interactive apps. \n",
    "\n",
    "[Basic Terminal Apps notebook](11_terminal_apps.ipynb)"
   ]
  },
  {
   "cell_type": "markdown",
   "metadata": {},
   "source": [
    "12 Try Except Finally\n",
    "---\n",
    "Let's take a look at how to handle errors\n",
    "\n",
    "[Try Except Finally Statements](12_try_except.ipynb)"
   ]
  },
  {
   "cell_type": "markdown",
   "metadata": {},
   "source": [
    "13 Sets Math Date\n",
    "---\n",
    "Other useful core modules to look at\n",
    "\n",
    "[Sets Math Date](13_Sets_Math_Date.ipynb)\n"
   ]
  },
  {
   "cell_type": "markdown",
   "metadata": {},
   "source": [
    "14 Advanced IO\n",
    "---\n",
    "An expansion on IO\n",
    "\n",
    "[Advanced IO](14_advanced_io.ipynb)\n"
   ]
  },
  {
   "cell_type": "markdown",
   "metadata": {},
   "source": [
    "---\n",
    "[Go back to index](00_index.ipynb)"
   ]
  }
 ],
 "metadata": {
  "kernelspec": {
   "display_name": "Python 3",
   "language": "python",
   "name": "python3"
  },
  "language_info": {
   "codemirror_mode": {
    "name": "ipython",
    "version": 3
   },
   "file_extension": ".py",
   "mimetype": "text/x-python",
   "name": "python",
   "nbconvert_exporter": "python",
   "pygments_lexer": "ipython3",
   "version": "3.8.3"
  }
 },
 "nbformat": 4,
 "nbformat_minor": 1
}
